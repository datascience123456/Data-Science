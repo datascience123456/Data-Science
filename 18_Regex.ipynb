{
 "cells": [
  {
   "cell_type": "markdown",
   "id": "50f9436e",
   "metadata": {},
   "source": [
    "# RegEx"
   ]
  },
  {
   "cell_type": "markdown",
   "id": "bc75056c",
   "metadata": {},
   "source": [
    "Regular expressions, often abbreviated as RegEx or regex, are a powerful tool for pattern matching and text manipulation. They provide a concise and flexible way to search, extract, and manipulate strings of text based on specific patterns.\n",
    " \n",
    "However, regular expressions can be complex and tricky to work with, especially for complex patterns. It's essential to understand the syntax and behavior of regular expressions before using them. Python's re module provides a set of functions and methods to work with regular expressions, such as search(), match(), findall(), and sub(), which make it easier to leverage their power within your Python code."
   ]
  },
  {
   "cell_type": "markdown",
   "id": "2767366b",
   "metadata": {},
   "source": [
    "**Function ---------------- Description** \n",
    "- **findall** -\tReturns a list containing all matches\n",
    "- **search** -\tReturns a Match object if there is a match anywhere in the string\n",
    "- **split** -\tReturns a list where the string has been split at each match\n",
    "- **sub** -\tReplaces one or many matches with a string"
   ]
  },
  {
   "cell_type": "markdown",
   "id": "e08cc0c1",
   "metadata": {},
   "source": [
    "## Findall"
   ]
  },
  {
   "cell_type": "markdown",
   "id": "62b9388d",
   "metadata": {},
   "source": [
    "### Matching a specific word:\n"
   ]
  },
  {
   "cell_type": "code",
   "execution_count": null,
   "id": "6473bd57",
   "metadata": {},
   "outputs": [],
   "source": [
    "\n",
    "import re\n",
    "\n",
    "pattern = \"Data Science\"\n",
    "text = \"Data Science is a stream and it is a part of AI. You can solve many complex problems using Data Science tools and techs\"\n",
    "\n",
    "matches = re.findall(pattern, text)\n",
    "print(matches)\n"
   ]
  },
  {
   "cell_type": "markdown",
   "id": "18ef0df3",
   "metadata": {},
   "source": [
    "### Extracting digits from a string:\n",
    "**This code finds all sequences of digits within the text. It will print ['123', '456'].**"
   ]
  },
  {
   "cell_type": "code",
   "execution_count": null,
   "id": "887e9a1a",
   "metadata": {},
   "outputs": [],
   "source": [
    "pattern = \"\\d+\"\n",
    "text = \"There are 123 apples and 456 oranges.\"\n",
    "\n",
    "matches = re.findall(pattern, text)\n",
    "print(matches)"
   ]
  },
  {
   "cell_type": "code",
   "execution_count": 59,
   "id": "99b53061",
   "metadata": {},
   "outputs": [
    {
     "name": "stdout",
     "output_type": "stream",
     "text": [
      "['50']\n",
      "['60']\n",
      "['150']\n"
     ]
    }
   ],
   "source": [
    "# Extracting digits from a list of string\n",
    "price = ['Apple costs Rs 50', 'Rs 60 for each pineapple', 'Rs 150 per watermelon']\n",
    "for msg in price:\n",
    "    matches = re.findall(\"\\d+\", msg)\n",
    "    print (matches)"
   ]
  },
  {
   "cell_type": "markdown",
   "id": "c6a132b6",
   "metadata": {},
   "source": [
    "## Search"
   ]
  },
  {
   "cell_type": "code",
   "execution_count": null,
   "id": "91947de6",
   "metadata": {},
   "outputs": [],
   "source": [
    "test = \"India China USA\"\n",
    "x = re.search(\"France\", test)\n",
    "print(x)"
   ]
  },
  {
   "cell_type": "code",
   "execution_count": null,
   "id": "33e251d0",
   "metadata": {},
   "outputs": [],
   "source": [
    "msges = ['Bananas are not only very delicious pieces of fruit', \n",
    "         'they’re also super healthy.', \n",
    "         'Eating two bananas a day can do wonders for your health, ',\n",
    "         'for example. But did you ever think of sticking a needle into a banana? Probably not,',\n",
    "         ' but you should, because it’s super handy!']\n",
    "for msg in msges:\n",
    "    search = re.search(\"banana\", msg)\n",
    "    print (search)"
   ]
  },
  {
   "cell_type": "code",
   "execution_count": null,
   "id": "d9a0b21e",
   "metadata": {},
   "outputs": [],
   "source": [
    "msg1 = \"This product is really Great\"\n",
    "\n",
    "#msg2 = \"This product is really great right\"\n",
    "\n",
    "search = re.search(\"^This.*Great$\", msg1)\n",
    "print (search)"
   ]
  },
  {
   "cell_type": "markdown",
   "id": "9e496a12",
   "metadata": {},
   "source": [
    "## Split"
   ]
  },
  {
   "cell_type": "code",
   "execution_count": null,
   "id": "4e5740e9",
   "metadata": {},
   "outputs": [],
   "source": [
    "# Split at each white-space character (\\s is split by space)\n",
    "text = \"India is a beautiful country\"\n",
    "x = re.split(\"\\s\", text)\n",
    "print(x)"
   ]
  },
  {
   "cell_type": "code",
   "execution_count": null,
   "id": "59ca068b",
   "metadata": {},
   "outputs": [],
   "source": [
    "# Start splitting by position\n",
    "split_by_position = \"How is this possible\"\n",
    "x = re.split(\"\\s\", split_by_position, 1)\n",
    "print(x)"
   ]
  },
  {
   "cell_type": "markdown",
   "id": "7625c818",
   "metadata": {},
   "source": [
    "## sub"
   ]
  },
  {
   "cell_type": "code",
   "execution_count": null,
   "id": "efc6a2fe",
   "metadata": {},
   "outputs": [],
   "source": [
    "sub_ = \"This function replaces spaces by assigned char\"\n",
    "x = re.sub(\"\\s\", \"====\", sub_)\n",
    "print(x)"
   ]
  },
  {
   "cell_type": "code",
   "execution_count": null,
   "id": "519b5d08",
   "metadata": {},
   "outputs": [],
   "source": [
    "y = 'Rs'\n",
    "z = r\"[oe]\"\n",
    "text = \"This Item costs Rs 2500\"\n",
    "\n",
    "replaced_text = re.sub(y, \"$\", text)\n",
    "print(replaced_text)"
   ]
  },
  {
   "cell_type": "markdown",
   "id": "6ce1b3e5",
   "metadata": {},
   "source": [
    "## You will learn some advanced techniques in your internship. If you can't wait until then, you can explore on your own and it's super easy to understand."
   ]
  },
  {
   "cell_type": "code",
   "execution_count": null,
   "id": "ff6079d0",
   "metadata": {},
   "outputs": [],
   "source": []
  }
 ],
 "metadata": {
  "kernelspec": {
   "display_name": "Python 3 (ipykernel)",
   "language": "python",
   "name": "python3"
  },
  "language_info": {
   "codemirror_mode": {
    "name": "ipython",
    "version": 3
   },
   "file_extension": ".py",
   "mimetype": "text/x-python",
   "name": "python",
   "nbconvert_exporter": "python",
   "pygments_lexer": "ipython3",
   "version": "3.10.9"
  }
 },
 "nbformat": 4,
 "nbformat_minor": 5
}
